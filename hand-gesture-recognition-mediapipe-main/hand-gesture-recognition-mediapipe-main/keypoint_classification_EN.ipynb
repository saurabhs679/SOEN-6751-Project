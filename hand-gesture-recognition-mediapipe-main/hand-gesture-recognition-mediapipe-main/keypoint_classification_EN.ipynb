{
  "cells": [
    {
      "cell_type": "code",
      "execution_count": 53,
      "metadata": {
        "id": "igMyGnjE9hEp"
      },
      "outputs": [],
      "source": [
        "import csv\n",
        "\n",
        "import numpy as np\n",
        "import tensorflow as tf\n",
        "from sklearn.model_selection import train_test_split\n",
        "\n",
        "RANDOM_SEED = 42"
      ]
    },
    {
      "cell_type": "markdown",
      "metadata": {
        "id": "t2HDvhIu9hEr"
      },
      "source": [
        "# Specify each path"
      ]
    },
    {
      "cell_type": "code",
      "execution_count": 54,
      "metadata": {
        "id": "9NvZP2Zn9hEy"
      },
      "outputs": [],
      "source": [
        "dataset = 'C:/Users/rohan/Downloads/hand-gesture-recognition-mediapipe-main/hand-gesture-recognition-mediapipe-main/model/keypoint_classifier/keypoint.csv'\n",
        "model_save_path = 'C:/Users/rohan/Downloads/hand-gesture-recognition-mediapipe-main/hand-gesture-recognition-mediapipe-main/model/keypoint_classifier/keypoint_classifier.hdf5'\n",
        "tflite_save_path = 'C:/Users/rohan/Downloads/hand-gesture-recognition-mediapipe-main/hand-gesture-recognition-mediapipe-main/model/keypoint_classifier/keypoint_classifier.tflite'"
      ]
    },
    {
      "cell_type": "markdown",
      "metadata": {
        "id": "s5oMH7x19hEz"
      },
      "source": [
        "# Set number of classes"
      ]
    },
    {
      "cell_type": "code",
      "execution_count": 55,
      "metadata": {
        "id": "du4kodXL9hEz"
      },
      "outputs": [],
      "source": [
        "NUM_CLASSES = 5"
      ]
    },
    {
      "cell_type": "markdown",
      "metadata": {
        "id": "XjnL0uso9hEz"
      },
      "source": [
        "# Dataset reading"
      ]
    },
    {
      "cell_type": "code",
      "execution_count": 56,
      "metadata": {
        "id": "QT5ZqtEz9hE0"
      },
      "outputs": [],
      "source": [
        "X_dataset = np.loadtxt(dataset, delimiter=',', dtype='float32', usecols=list(range(1, (21 * 2) + 1)))"
      ]
    },
    {
      "cell_type": "code",
      "execution_count": 57,
      "metadata": {
        "id": "QmoKFsp49hE0"
      },
      "outputs": [],
      "source": [
        "y_dataset = np.loadtxt(dataset, delimiter=',', dtype='int32', usecols=(0))"
      ]
    },
    {
      "cell_type": "code",
      "execution_count": 58,
      "metadata": {
        "id": "xQU7JTZ_9hE0"
      },
      "outputs": [],
      "source": [
        "X_train, X_test, y_train, y_test = train_test_split(X_dataset, y_dataset, train_size=0.75, random_state=RANDOM_SEED)"
      ]
    },
    {
      "cell_type": "markdown",
      "metadata": {
        "id": "mxK_lETT9hE0"
      },
      "source": [
        "# Model building"
      ]
    },
    {
      "cell_type": "code",
      "execution_count": 59,
      "metadata": {
        "id": "vHBmUf1t9hE1"
      },
      "outputs": [],
      "source": [
        "model = tf.keras.models.Sequential([\n",
        "    tf.keras.layers.Input((21 * 2, )),\n",
        "    tf.keras.layers.Dropout(0.2),\n",
        "    tf.keras.layers.Dense(20, activation='relu'),\n",
        "    tf.keras.layers.Dropout(0.4),\n",
        "    tf.keras.layers.Dense(10, activation='relu'),\n",
        "    tf.keras.layers.Dense(NUM_CLASSES, activation='softmax')\n",
        "])"
      ]
    },
    {
      "cell_type": "code",
      "execution_count": 60,
      "metadata": {
        "colab": {
          "base_uri": "https://localhost:8080/"
        },
        "id": "ypqky9tc9hE1",
        "outputId": "5db082bb-30e3-4110-bf63-a1ee777ecd46"
      },
      "outputs": [
        {
          "name": "stdout",
          "output_type": "stream",
          "text": [
            "Model: \"sequential_3\"\n",
            "_________________________________________________________________\n",
            " Layer (type)                Output Shape              Param #   \n",
            "=================================================================\n",
            " dropout_6 (Dropout)         (None, 42)                0         \n",
            "                                                                 \n",
            " dense_9 (Dense)             (None, 20)                860       \n",
            "                                                                 \n",
            " dropout_7 (Dropout)         (None, 20)                0         \n",
            "                                                                 \n",
            " dense_10 (Dense)            (None, 10)                210       \n",
            "                                                                 \n",
            " dense_11 (Dense)            (None, 5)                 55        \n",
            "                                                                 \n",
            "=================================================================\n",
            "Total params: 1125 (4.39 KB)\n",
            "Trainable params: 1125 (4.39 KB)\n",
            "Non-trainable params: 0 (0.00 Byte)\n",
            "_________________________________________________________________\n"
          ]
        }
      ],
      "source": [
        "model.summary()  # tf.keras.utils.plot_model(model, show_shapes=True)"
      ]
    },
    {
      "cell_type": "code",
      "execution_count": 61,
      "metadata": {
        "id": "MbMjOflQ9hE1"
      },
      "outputs": [],
      "source": [
        "# Model checkpoint callback\n",
        "cp_callback = tf.keras.callbacks.ModelCheckpoint(\n",
        "    model_save_path, verbose=1, save_weights_only=False)\n",
        "# Callback for early stopping\n",
        "es_callback = tf.keras.callbacks.EarlyStopping(patience=20, verbose=1)"
      ]
    },
    {
      "cell_type": "code",
      "execution_count": 62,
      "metadata": {
        "id": "c3Dac0M_9hE2"
      },
      "outputs": [],
      "source": [
        "# Model compilation\n",
        "model.compile(\n",
        "    optimizer='adam',\n",
        "    loss='sparse_categorical_crossentropy',\n",
        "    metrics=['accuracy']\n",
        ")"
      ]
    },
    {
      "cell_type": "markdown",
      "metadata": {
        "id": "7XI0j1Iu9hE2"
      },
      "source": [
        "# Model training"
      ]
    },
    {
      "cell_type": "code",
      "execution_count": 63,
      "metadata": {
        "colab": {
          "base_uri": "https://localhost:8080/"
        },
        "id": "WirBl-JE9hE3",
        "outputId": "71b30ca2-8294-4d9d-8aa2-800d90d399de",
        "scrolled": true
      },
      "outputs": [
        {
          "name": "stdout",
          "output_type": "stream",
          "text": [
            "Epoch 1/1000\n"
          ]
        },
        {
          "name": "stdout",
          "output_type": "stream",
          "text": [
            " 1/31 [..............................] - ETA: 7s - loss: 1.6089 - accuracy: 0.2188\n",
            "Epoch 1: saving model to C:/Users/rohan/Downloads/hand-gesture-recognition-mediapipe-main/hand-gesture-recognition-mediapipe-main/model/keypoint_classifier\\keypoint_classifier.hdf5\n",
            "31/31 [==============================] - 0s 4ms/step - loss: 1.5305 - accuracy: 0.2998 - val_loss: 1.4313 - val_accuracy: 0.3634\n",
            "Epoch 2/1000\n",
            " 1/31 [..............................] - ETA: 0s - loss: 1.4836 - accuracy: 0.3281\n",
            "Epoch 2: saving model to C:/Users/rohan/Downloads/hand-gesture-recognition-mediapipe-main/hand-gesture-recognition-mediapipe-main/model/keypoint_classifier\\keypoint_classifier.hdf5\n",
            "31/31 [==============================] - 0s 2ms/step - loss: 1.4170 - accuracy: 0.3415 - val_loss: 1.3314 - val_accuracy: 0.3927\n",
            "Epoch 3/1000\n",
            " 1/31 [..............................] - ETA: 0s - loss: 1.3478 - accuracy: 0.3516\n",
            "Epoch 3: saving model to C:/Users/rohan/Downloads/hand-gesture-recognition-mediapipe-main/hand-gesture-recognition-mediapipe-main/model/keypoint_classifier\\keypoint_classifier.hdf5\n",
            "31/31 [==============================] - 0s 2ms/step - loss: 1.3682 - accuracy: 0.3590 - val_loss: 1.2798 - val_accuracy: 0.4298\n",
            "Epoch 4/1000\n",
            " 1/31 [..............................] - ETA: 0s - loss: 1.3088 - accuracy: 0.3672\n",
            "Epoch 4: saving model to C:/Users/rohan/Downloads/hand-gesture-recognition-mediapipe-main/hand-gesture-recognition-mediapipe-main/model/keypoint_classifier\\keypoint_classifier.hdf5\n"
          ]
        },
        {
          "name": "stderr",
          "output_type": "stream",
          "text": [
            "c:\\Users\\rohan\\AppData\\Local\\Programs\\Python\\Python38\\lib\\site-packages\\keras\\src\\engine\\training.py:3000: UserWarning: You are saving your model as an HDF5 file via `model.save()`. This file format is considered legacy. We recommend using instead the native Keras format, e.g. `model.save('my_model.keras')`.\n",
            "  saving_api.save_model(\n"
          ]
        },
        {
          "name": "stdout",
          "output_type": "stream",
          "text": [
            "31/31 [==============================] - 0s 2ms/step - loss: 1.3301 - accuracy: 0.3747 - val_loss: 1.2385 - val_accuracy: 0.4414\n",
            "Epoch 5/1000\n",
            " 1/31 [..............................] - ETA: 0s - loss: 1.2653 - accuracy: 0.4375\n",
            "Epoch 5: saving model to C:/Users/rohan/Downloads/hand-gesture-recognition-mediapipe-main/hand-gesture-recognition-mediapipe-main/model/keypoint_classifier\\keypoint_classifier.hdf5\n",
            "31/31 [==============================] - 0s 2ms/step - loss: 1.3028 - accuracy: 0.3873 - val_loss: 1.1990 - val_accuracy: 0.4985\n",
            "Epoch 6/1000\n",
            " 1/31 [..............................] - ETA: 0s - loss: 1.3112 - accuracy: 0.3672\n",
            "Epoch 6: saving model to C:/Users/rohan/Downloads/hand-gesture-recognition-mediapipe-main/hand-gesture-recognition-mediapipe-main/model/keypoint_classifier\\keypoint_classifier.hdf5\n",
            "31/31 [==============================] - 0s 2ms/step - loss: 1.2798 - accuracy: 0.3971 - val_loss: 1.1601 - val_accuracy: 0.5015\n",
            "Epoch 7/1000\n",
            " 1/31 [..............................] - ETA: 0s - loss: 1.2902 - accuracy: 0.3203\n",
            "Epoch 7: saving model to C:/Users/rohan/Downloads/hand-gesture-recognition-mediapipe-main/hand-gesture-recognition-mediapipe-main/model/keypoint_classifier\\keypoint_classifier.hdf5\n",
            "31/31 [==============================] - 0s 2ms/step - loss: 1.2447 - accuracy: 0.4207 - val_loss: 1.1202 - val_accuracy: 0.5309\n",
            "Epoch 8/1000\n",
            " 1/31 [..............................] - ETA: 0s - loss: 1.2110 - accuracy: 0.4766\n",
            "Epoch 8: saving model to C:/Users/rohan/Downloads/hand-gesture-recognition-mediapipe-main/hand-gesture-recognition-mediapipe-main/model/keypoint_classifier\\keypoint_classifier.hdf5\n",
            "31/31 [==============================] - 0s 2ms/step - loss: 1.2064 - accuracy: 0.4457 - val_loss: 1.0729 - val_accuracy: 0.5532\n",
            "Epoch 9/1000\n",
            " 1/31 [..............................] - ETA: 0s - loss: 1.2901 - accuracy: 0.4375\n",
            "Epoch 9: saving model to C:/Users/rohan/Downloads/hand-gesture-recognition-mediapipe-main/hand-gesture-recognition-mediapipe-main/model/keypoint_classifier\\keypoint_classifier.hdf5\n",
            "31/31 [==============================] - 0s 2ms/step - loss: 1.1798 - accuracy: 0.4678 - val_loss: 1.0209 - val_accuracy: 0.6319\n",
            "Epoch 10/1000\n",
            " 1/31 [..............................] - ETA: 0s - loss: 1.2200 - accuracy: 0.4609\n",
            "Epoch 10: saving model to C:/Users/rohan/Downloads/hand-gesture-recognition-mediapipe-main/hand-gesture-recognition-mediapipe-main/model/keypoint_classifier\\keypoint_classifier.hdf5\n",
            "31/31 [==============================] - 0s 2ms/step - loss: 1.1457 - accuracy: 0.4959 - val_loss: 0.9692 - val_accuracy: 0.6644\n",
            "Epoch 11/1000\n",
            " 1/31 [..............................] - ETA: 0s - loss: 1.0750 - accuracy: 0.5312\n",
            "Epoch 11: saving model to C:/Users/rohan/Downloads/hand-gesture-recognition-mediapipe-main/hand-gesture-recognition-mediapipe-main/model/keypoint_classifier\\keypoint_classifier.hdf5\n",
            "31/31 [==============================] - 0s 2ms/step - loss: 1.1117 - accuracy: 0.5188 - val_loss: 0.9218 - val_accuracy: 0.6836\n",
            "Epoch 12/1000\n",
            " 1/31 [..............................] - ETA: 0s - loss: 1.1704 - accuracy: 0.5000\n",
            "Epoch 12: saving model to C:/Users/rohan/Downloads/hand-gesture-recognition-mediapipe-main/hand-gesture-recognition-mediapipe-main/model/keypoint_classifier\\keypoint_classifier.hdf5\n",
            "31/31 [==============================] - 0s 2ms/step - loss: 1.0897 - accuracy: 0.5106 - val_loss: 0.8831 - val_accuracy: 0.7130\n",
            "Epoch 13/1000\n",
            " 1/31 [..............................] - ETA: 0s - loss: 1.1849 - accuracy: 0.4844\n",
            "Epoch 13: saving model to C:/Users/rohan/Downloads/hand-gesture-recognition-mediapipe-main/hand-gesture-recognition-mediapipe-main/model/keypoint_classifier\\keypoint_classifier.hdf5\n",
            "31/31 [==============================] - 0s 2ms/step - loss: 1.0680 - accuracy: 0.5407 - val_loss: 0.8409 - val_accuracy: 0.7346\n",
            "Epoch 14/1000\n",
            " 1/31 [..............................] - ETA: 0s - loss: 0.9014 - accuracy: 0.6328\n",
            "Epoch 14: saving model to C:/Users/rohan/Downloads/hand-gesture-recognition-mediapipe-main/hand-gesture-recognition-mediapipe-main/model/keypoint_classifier\\keypoint_classifier.hdf5\n",
            "31/31 [==============================] - 0s 2ms/step - loss: 1.0385 - accuracy: 0.5450 - val_loss: 0.8006 - val_accuracy: 0.7670\n",
            "Epoch 15/1000\n",
            " 1/31 [..............................] - ETA: 0s - loss: 1.0577 - accuracy: 0.5312\n",
            "Epoch 15: saving model to C:/Users/rohan/Downloads/hand-gesture-recognition-mediapipe-main/hand-gesture-recognition-mediapipe-main/model/keypoint_classifier\\keypoint_classifier.hdf5\n",
            "31/31 [==============================] - 0s 2ms/step - loss: 1.0215 - accuracy: 0.5512 - val_loss: 0.7663 - val_accuracy: 0.7770\n",
            "Epoch 16/1000\n",
            " 1/31 [..............................] - ETA: 0s - loss: 0.9905 - accuracy: 0.5312\n",
            "Epoch 16: saving model to C:/Users/rohan/Downloads/hand-gesture-recognition-mediapipe-main/hand-gesture-recognition-mediapipe-main/model/keypoint_classifier\\keypoint_classifier.hdf5\n",
            "31/31 [==============================] - 0s 2ms/step - loss: 1.0042 - accuracy: 0.5726 - val_loss: 0.7305 - val_accuracy: 0.7986\n",
            "Epoch 17/1000\n",
            " 1/31 [..............................] - ETA: 0s - loss: 0.9224 - accuracy: 0.6016\n",
            "Epoch 17: saving model to C:/Users/rohan/Downloads/hand-gesture-recognition-mediapipe-main/hand-gesture-recognition-mediapipe-main/model/keypoint_classifier\\keypoint_classifier.hdf5\n",
            "31/31 [==============================] - 0s 2ms/step - loss: 0.9841 - accuracy: 0.5751 - val_loss: 0.6934 - val_accuracy: 0.7978\n",
            "Epoch 18/1000\n",
            " 1/31 [..............................] - ETA: 0s - loss: 0.9304 - accuracy: 0.6719\n",
            "Epoch 18: saving model to C:/Users/rohan/Downloads/hand-gesture-recognition-mediapipe-main/hand-gesture-recognition-mediapipe-main/model/keypoint_classifier\\keypoint_classifier.hdf5\n",
            "31/31 [==============================] - 0s 2ms/step - loss: 0.9616 - accuracy: 0.5813 - val_loss: 0.6717 - val_accuracy: 0.8164\n",
            "Epoch 19/1000\n",
            " 1/31 [..............................] - ETA: 0s - loss: 0.9022 - accuracy: 0.6328\n",
            "Epoch 19: saving model to C:/Users/rohan/Downloads/hand-gesture-recognition-mediapipe-main/hand-gesture-recognition-mediapipe-main/model/keypoint_classifier\\keypoint_classifier.hdf5\n",
            "31/31 [==============================] - 0s 2ms/step - loss: 0.9306 - accuracy: 0.6040 - val_loss: 0.6405 - val_accuracy: 0.8719\n",
            "Epoch 20/1000\n",
            " 1/31 [..............................] - ETA: 0s - loss: 0.9351 - accuracy: 0.6250\n",
            "Epoch 20: saving model to C:/Users/rohan/Downloads/hand-gesture-recognition-mediapipe-main/hand-gesture-recognition-mediapipe-main/model/keypoint_classifier\\keypoint_classifier.hdf5\n",
            "31/31 [==============================] - 0s 2ms/step - loss: 0.9254 - accuracy: 0.6081 - val_loss: 0.6158 - val_accuracy: 0.8812\n",
            "Epoch 21/1000\n",
            " 1/31 [..............................] - ETA: 0s - loss: 0.9647 - accuracy: 0.6016\n",
            "Epoch 21: saving model to C:/Users/rohan/Downloads/hand-gesture-recognition-mediapipe-main/hand-gesture-recognition-mediapipe-main/model/keypoint_classifier\\keypoint_classifier.hdf5\n",
            "31/31 [==============================] - 0s 2ms/step - loss: 0.9213 - accuracy: 0.6171 - val_loss: 0.5953 - val_accuracy: 0.8881\n",
            "Epoch 22/1000\n",
            " 1/31 [..............................] - ETA: 0s - loss: 0.8970 - accuracy: 0.6250\n",
            "Epoch 22: saving model to C:/Users/rohan/Downloads/hand-gesture-recognition-mediapipe-main/hand-gesture-recognition-mediapipe-main/model/keypoint_classifier\\keypoint_classifier.hdf5\n",
            "31/31 [==============================] - 0s 2ms/step - loss: 0.8930 - accuracy: 0.6310 - val_loss: 0.5715 - val_accuracy: 0.8904\n",
            "Epoch 23/1000\n",
            " 1/31 [..............................] - ETA: 0s - loss: 1.0060 - accuracy: 0.5781\n",
            "Epoch 23: saving model to C:/Users/rohan/Downloads/hand-gesture-recognition-mediapipe-main/hand-gesture-recognition-mediapipe-main/model/keypoint_classifier\\keypoint_classifier.hdf5\n",
            "31/31 [==============================] - 0s 2ms/step - loss: 0.8912 - accuracy: 0.6372 - val_loss: 0.5506 - val_accuracy: 0.8966\n",
            "Epoch 24/1000\n",
            " 1/31 [..............................] - ETA: 0s - loss: 0.8967 - accuracy: 0.6641\n",
            "Epoch 24: saving model to C:/Users/rohan/Downloads/hand-gesture-recognition-mediapipe-main/hand-gesture-recognition-mediapipe-main/model/keypoint_classifier\\keypoint_classifier.hdf5\n",
            "31/31 [==============================] - 0s 2ms/step - loss: 0.8810 - accuracy: 0.6400 - val_loss: 0.5379 - val_accuracy: 0.9082\n",
            "Epoch 25/1000\n",
            " 1/31 [..............................] - ETA: 0s - loss: 0.8538 - accuracy: 0.6406\n",
            "Epoch 25: saving model to C:/Users/rohan/Downloads/hand-gesture-recognition-mediapipe-main/hand-gesture-recognition-mediapipe-main/model/keypoint_classifier\\keypoint_classifier.hdf5\n",
            "31/31 [==============================] - 0s 2ms/step - loss: 0.8591 - accuracy: 0.6516 - val_loss: 0.5161 - val_accuracy: 0.9082\n",
            "Epoch 26/1000\n",
            " 1/31 [..............................] - ETA: 0s - loss: 0.8352 - accuracy: 0.6641\n",
            "Epoch 26: saving model to C:/Users/rohan/Downloads/hand-gesture-recognition-mediapipe-main/hand-gesture-recognition-mediapipe-main/model/keypoint_classifier\\keypoint_classifier.hdf5\n",
            "31/31 [==============================] - 0s 2ms/step - loss: 0.8358 - accuracy: 0.6585 - val_loss: 0.4949 - val_accuracy: 0.9113\n",
            "Epoch 27/1000\n",
            " 1/31 [..............................] - ETA: 0s - loss: 0.8076 - accuracy: 0.6719\n",
            "Epoch 27: saving model to C:/Users/rohan/Downloads/hand-gesture-recognition-mediapipe-main/hand-gesture-recognition-mediapipe-main/model/keypoint_classifier\\keypoint_classifier.hdf5\n",
            "31/31 [==============================] - 0s 2ms/step - loss: 0.8505 - accuracy: 0.6467 - val_loss: 0.4832 - val_accuracy: 0.9136\n",
            "Epoch 28/1000\n",
            " 1/31 [..............................] - ETA: 0s - loss: 0.7094 - accuracy: 0.7188\n",
            "Epoch 28: saving model to C:/Users/rohan/Downloads/hand-gesture-recognition-mediapipe-main/hand-gesture-recognition-mediapipe-main/model/keypoint_classifier\\keypoint_classifier.hdf5\n",
            "31/31 [==============================] - 0s 2ms/step - loss: 0.7881 - accuracy: 0.6783 - val_loss: 0.4642 - val_accuracy: 0.9120\n",
            "Epoch 29/1000\n",
            " 1/31 [..............................] - ETA: 0s - loss: 0.8622 - accuracy: 0.6250\n",
            "Epoch 29: saving model to C:/Users/rohan/Downloads/hand-gesture-recognition-mediapipe-main/hand-gesture-recognition-mediapipe-main/model/keypoint_classifier\\keypoint_classifier.hdf5\n",
            "31/31 [==============================] - 0s 2ms/step - loss: 0.8239 - accuracy: 0.6701 - val_loss: 0.4598 - val_accuracy: 0.9120\n",
            "Epoch 30/1000\n",
            " 1/31 [..............................] - ETA: 0s - loss: 0.7213 - accuracy: 0.7422\n",
            "Epoch 30: saving model to C:/Users/rohan/Downloads/hand-gesture-recognition-mediapipe-main/hand-gesture-recognition-mediapipe-main/model/keypoint_classifier\\keypoint_classifier.hdf5\n",
            "31/31 [==============================] - 0s 2ms/step - loss: 0.7902 - accuracy: 0.6899 - val_loss: 0.4453 - val_accuracy: 0.9205\n",
            "Epoch 31/1000\n",
            " 1/31 [..............................] - ETA: 0s - loss: 0.7339 - accuracy: 0.6953\n",
            "Epoch 31: saving model to C:/Users/rohan/Downloads/hand-gesture-recognition-mediapipe-main/hand-gesture-recognition-mediapipe-main/model/keypoint_classifier\\keypoint_classifier.hdf5\n",
            "31/31 [==============================] - 0s 2ms/step - loss: 0.7767 - accuracy: 0.6891 - val_loss: 0.4338 - val_accuracy: 0.9174\n",
            "Epoch 32/1000\n",
            " 1/31 [..............................] - ETA: 0s - loss: 0.7222 - accuracy: 0.7344\n",
            "Epoch 32: saving model to C:/Users/rohan/Downloads/hand-gesture-recognition-mediapipe-main/hand-gesture-recognition-mediapipe-main/model/keypoint_classifier\\keypoint_classifier.hdf5\n",
            "31/31 [==============================] - 0s 2ms/step - loss: 0.7801 - accuracy: 0.6909 - val_loss: 0.4218 - val_accuracy: 0.9252\n",
            "Epoch 33/1000\n",
            " 1/31 [..............................] - ETA: 0s - loss: 0.8033 - accuracy: 0.6953\n",
            "Epoch 33: saving model to C:/Users/rohan/Downloads/hand-gesture-recognition-mediapipe-main/hand-gesture-recognition-mediapipe-main/model/keypoint_classifier\\keypoint_classifier.hdf5\n",
            "31/31 [==============================] - 0s 2ms/step - loss: 0.7701 - accuracy: 0.6945 - val_loss: 0.4144 - val_accuracy: 0.9244\n",
            "Epoch 34/1000\n",
            " 1/31 [..............................] - ETA: 0s - loss: 0.7648 - accuracy: 0.7266\n",
            "Epoch 34: saving model to C:/Users/rohan/Downloads/hand-gesture-recognition-mediapipe-main/hand-gesture-recognition-mediapipe-main/model/keypoint_classifier\\keypoint_classifier.hdf5\n",
            "31/31 [==============================] - 0s 2ms/step - loss: 0.7623 - accuracy: 0.6966 - val_loss: 0.4062 - val_accuracy: 0.9228\n",
            "Epoch 35/1000\n",
            " 1/31 [..............................] - ETA: 0s - loss: 0.7286 - accuracy: 0.7031\n",
            "Epoch 35: saving model to C:/Users/rohan/Downloads/hand-gesture-recognition-mediapipe-main/hand-gesture-recognition-mediapipe-main/model/keypoint_classifier\\keypoint_classifier.hdf5\n",
            "31/31 [==============================] - 0s 2ms/step - loss: 0.7618 - accuracy: 0.6999 - val_loss: 0.4002 - val_accuracy: 0.9252\n",
            "Epoch 36/1000\n",
            " 1/31 [..............................] - ETA: 0s - loss: 0.6914 - accuracy: 0.7188\n",
            "Epoch 36: saving model to C:/Users/rohan/Downloads/hand-gesture-recognition-mediapipe-main/hand-gesture-recognition-mediapipe-main/model/keypoint_classifier\\keypoint_classifier.hdf5\n",
            "31/31 [==============================] - 0s 2ms/step - loss: 0.7479 - accuracy: 0.7015 - val_loss: 0.3914 - val_accuracy: 0.9282\n",
            "Epoch 37/1000\n",
            " 1/31 [..............................] - ETA: 0s - loss: 0.6874 - accuracy: 0.7578\n",
            "Epoch 37: saving model to C:/Users/rohan/Downloads/hand-gesture-recognition-mediapipe-main/hand-gesture-recognition-mediapipe-main/model/keypoint_classifier\\keypoint_classifier.hdf5\n",
            "31/31 [==============================] - 0s 2ms/step - loss: 0.7601 - accuracy: 0.7046 - val_loss: 0.3921 - val_accuracy: 0.9267\n",
            "Epoch 38/1000\n",
            " 1/31 [..............................] - ETA: 0s - loss: 0.7285 - accuracy: 0.6641\n",
            "Epoch 38: saving model to C:/Users/rohan/Downloads/hand-gesture-recognition-mediapipe-main/hand-gesture-recognition-mediapipe-main/model/keypoint_classifier\\keypoint_classifier.hdf5\n",
            "31/31 [==============================] - 0s 2ms/step - loss: 0.7357 - accuracy: 0.7043 - val_loss: 0.3875 - val_accuracy: 0.9259\n",
            "Epoch 39/1000\n",
            " 1/31 [..............................] - ETA: 0s - loss: 0.6908 - accuracy: 0.7344\n",
            "Epoch 39: saving model to C:/Users/rohan/Downloads/hand-gesture-recognition-mediapipe-main/hand-gesture-recognition-mediapipe-main/model/keypoint_classifier\\keypoint_classifier.hdf5\n",
            "31/31 [==============================] - 0s 2ms/step - loss: 0.7367 - accuracy: 0.7015 - val_loss: 0.3848 - val_accuracy: 0.9298\n",
            "Epoch 40/1000\n",
            " 1/31 [..............................] - ETA: 0s - loss: 0.6748 - accuracy: 0.7266\n",
            "Epoch 40: saving model to C:/Users/rohan/Downloads/hand-gesture-recognition-mediapipe-main/hand-gesture-recognition-mediapipe-main/model/keypoint_classifier\\keypoint_classifier.hdf5\n",
            "31/31 [==============================] - 0s 2ms/step - loss: 0.7434 - accuracy: 0.7046 - val_loss: 0.3781 - val_accuracy: 0.9321\n",
            "Epoch 41/1000\n",
            " 1/31 [..............................] - ETA: 0s - loss: 0.8085 - accuracy: 0.6797\n",
            "Epoch 41: saving model to C:/Users/rohan/Downloads/hand-gesture-recognition-mediapipe-main/hand-gesture-recognition-mediapipe-main/model/keypoint_classifier\\keypoint_classifier.hdf5\n",
            "31/31 [==============================] - 0s 2ms/step - loss: 0.7171 - accuracy: 0.7110 - val_loss: 0.3705 - val_accuracy: 0.9336\n",
            "Epoch 42/1000\n",
            " 1/31 [..............................] - ETA: 0s - loss: 0.8214 - accuracy: 0.6094\n",
            "Epoch 42: saving model to C:/Users/rohan/Downloads/hand-gesture-recognition-mediapipe-main/hand-gesture-recognition-mediapipe-main/model/keypoint_classifier\\keypoint_classifier.hdf5\n",
            "31/31 [==============================] - 0s 2ms/step - loss: 0.7315 - accuracy: 0.7120 - val_loss: 0.3672 - val_accuracy: 0.9329\n",
            "Epoch 43/1000\n",
            " 1/31 [..............................] - ETA: 0s - loss: 0.7492 - accuracy: 0.6953\n",
            "Epoch 43: saving model to C:/Users/rohan/Downloads/hand-gesture-recognition-mediapipe-main/hand-gesture-recognition-mediapipe-main/model/keypoint_classifier\\keypoint_classifier.hdf5\n",
            "31/31 [==============================] - 0s 2ms/step - loss: 0.7031 - accuracy: 0.7231 - val_loss: 0.3597 - val_accuracy: 0.9298\n",
            "Epoch 44/1000\n",
            " 1/31 [..............................] - ETA: 0s - loss: 0.6592 - accuracy: 0.7422\n",
            "Epoch 44: saving model to C:/Users/rohan/Downloads/hand-gesture-recognition-mediapipe-main/hand-gesture-recognition-mediapipe-main/model/keypoint_classifier\\keypoint_classifier.hdf5\n",
            "31/31 [==============================] - 0s 2ms/step - loss: 0.6942 - accuracy: 0.7293 - val_loss: 0.3559 - val_accuracy: 0.9290\n",
            "Epoch 45/1000\n",
            " 1/31 [..............................] - ETA: 0s - loss: 0.6871 - accuracy: 0.7031\n",
            "Epoch 45: saving model to C:/Users/rohan/Downloads/hand-gesture-recognition-mediapipe-main/hand-gesture-recognition-mediapipe-main/model/keypoint_classifier\\keypoint_classifier.hdf5\n",
            "31/31 [==============================] - 0s 2ms/step - loss: 0.7024 - accuracy: 0.7241 - val_loss: 0.3552 - val_accuracy: 0.9282\n",
            "Epoch 46/1000\n",
            " 1/31 [..............................] - ETA: 0s - loss: 0.6591 - accuracy: 0.7656\n",
            "Epoch 46: saving model to C:/Users/rohan/Downloads/hand-gesture-recognition-mediapipe-main/hand-gesture-recognition-mediapipe-main/model/keypoint_classifier\\keypoint_classifier.hdf5\n",
            "31/31 [==============================] - 0s 2ms/step - loss: 0.6972 - accuracy: 0.7231 - val_loss: 0.3536 - val_accuracy: 0.9313\n",
            "Epoch 47/1000\n",
            " 1/31 [..............................] - ETA: 0s - loss: 0.6473 - accuracy: 0.7422\n",
            "Epoch 47: saving model to C:/Users/rohan/Downloads/hand-gesture-recognition-mediapipe-main/hand-gesture-recognition-mediapipe-main/model/keypoint_classifier\\keypoint_classifier.hdf5\n",
            "31/31 [==============================] - 0s 2ms/step - loss: 0.6799 - accuracy: 0.7290 - val_loss: 0.3422 - val_accuracy: 0.9336\n",
            "Epoch 48/1000\n",
            " 1/31 [..............................] - ETA: 0s - loss: 0.6871 - accuracy: 0.7031\n",
            "Epoch 48: saving model to C:/Users/rohan/Downloads/hand-gesture-recognition-mediapipe-main/hand-gesture-recognition-mediapipe-main/model/keypoint_classifier\\keypoint_classifier.hdf5\n",
            "31/31 [==============================] - 0s 2ms/step - loss: 0.7022 - accuracy: 0.7280 - val_loss: 0.3465 - val_accuracy: 0.9352\n",
            "Epoch 49/1000\n",
            " 1/31 [..............................] - ETA: 0s - loss: 0.6848 - accuracy: 0.7109\n",
            "Epoch 49: saving model to C:/Users/rohan/Downloads/hand-gesture-recognition-mediapipe-main/hand-gesture-recognition-mediapipe-main/model/keypoint_classifier\\keypoint_classifier.hdf5\n",
            "31/31 [==============================] - 0s 2ms/step - loss: 0.6737 - accuracy: 0.7424 - val_loss: 0.3390 - val_accuracy: 0.9329\n",
            "Epoch 50/1000\n",
            " 1/31 [..............................] - ETA: 0s - loss: 0.7121 - accuracy: 0.6719\n",
            "Epoch 50: saving model to C:/Users/rohan/Downloads/hand-gesture-recognition-mediapipe-main/hand-gesture-recognition-mediapipe-main/model/keypoint_classifier\\keypoint_classifier.hdf5\n",
            "31/31 [==============================] - 0s 2ms/step - loss: 0.6540 - accuracy: 0.7450 - val_loss: 0.3275 - val_accuracy: 0.9344\n",
            "Epoch 51/1000\n",
            " 1/31 [..............................] - ETA: 0s - loss: 0.6489 - accuracy: 0.7109\n",
            "Epoch 51: saving model to C:/Users/rohan/Downloads/hand-gesture-recognition-mediapipe-main/hand-gesture-recognition-mediapipe-main/model/keypoint_classifier\\keypoint_classifier.hdf5\n",
            "31/31 [==============================] - 0s 2ms/step - loss: 0.6729 - accuracy: 0.7324 - val_loss: 0.3286 - val_accuracy: 0.9313\n",
            "Epoch 52/1000\n",
            " 1/31 [..............................] - ETA: 0s - loss: 0.6201 - accuracy: 0.7891\n",
            "Epoch 52: saving model to C:/Users/rohan/Downloads/hand-gesture-recognition-mediapipe-main/hand-gesture-recognition-mediapipe-main/model/keypoint_classifier\\keypoint_classifier.hdf5\n",
            "31/31 [==============================] - 0s 2ms/step - loss: 0.7009 - accuracy: 0.7283 - val_loss: 0.3387 - val_accuracy: 0.9321\n",
            "Epoch 53/1000\n",
            " 1/31 [..............................] - ETA: 0s - loss: 0.6579 - accuracy: 0.7578\n",
            "Epoch 53: saving model to C:/Users/rohan/Downloads/hand-gesture-recognition-mediapipe-main/hand-gesture-recognition-mediapipe-main/model/keypoint_classifier\\keypoint_classifier.hdf5\n",
            "31/31 [==============================] - 0s 2ms/step - loss: 0.6657 - accuracy: 0.7414 - val_loss: 0.3299 - val_accuracy: 0.9360\n",
            "Epoch 54/1000\n",
            " 1/31 [..............................] - ETA: 0s - loss: 0.6568 - accuracy: 0.7344\n",
            "Epoch 54: saving model to C:/Users/rohan/Downloads/hand-gesture-recognition-mediapipe-main/hand-gesture-recognition-mediapipe-main/model/keypoint_classifier\\keypoint_classifier.hdf5\n",
            "31/31 [==============================] - 0s 2ms/step - loss: 0.6836 - accuracy: 0.7259 - val_loss: 0.3341 - val_accuracy: 0.9344\n",
            "Epoch 55/1000\n",
            " 1/31 [..............................] - ETA: 0s - loss: 0.6351 - accuracy: 0.7812\n",
            "Epoch 55: saving model to C:/Users/rohan/Downloads/hand-gesture-recognition-mediapipe-main/hand-gesture-recognition-mediapipe-main/model/keypoint_classifier\\keypoint_classifier.hdf5\n",
            "31/31 [==============================] - 0s 2ms/step - loss: 0.6877 - accuracy: 0.7283 - val_loss: 0.3349 - val_accuracy: 0.9313\n",
            "Epoch 56/1000\n",
            " 1/31 [..............................] - ETA: 0s - loss: 0.7248 - accuracy: 0.7109\n",
            "Epoch 56: saving model to C:/Users/rohan/Downloads/hand-gesture-recognition-mediapipe-main/hand-gesture-recognition-mediapipe-main/model/keypoint_classifier\\keypoint_classifier.hdf5\n",
            "31/31 [==============================] - 0s 2ms/step - loss: 0.6727 - accuracy: 0.7434 - val_loss: 0.3274 - val_accuracy: 0.9336\n",
            "Epoch 57/1000\n",
            " 1/31 [..............................] - ETA: 0s - loss: 0.6012 - accuracy: 0.7969\n",
            "Epoch 57: saving model to C:/Users/rohan/Downloads/hand-gesture-recognition-mediapipe-main/hand-gesture-recognition-mediapipe-main/model/keypoint_classifier\\keypoint_classifier.hdf5\n",
            "31/31 [==============================] - 0s 2ms/step - loss: 0.6788 - accuracy: 0.7355 - val_loss: 0.3269 - val_accuracy: 0.9275\n",
            "Epoch 58/1000\n",
            " 1/31 [..............................] - ETA: 0s - loss: 0.6433 - accuracy: 0.7188\n",
            "Epoch 58: saving model to C:/Users/rohan/Downloads/hand-gesture-recognition-mediapipe-main/hand-gesture-recognition-mediapipe-main/model/keypoint_classifier\\keypoint_classifier.hdf5\n",
            "31/31 [==============================] - 0s 2ms/step - loss: 0.6604 - accuracy: 0.7491 - val_loss: 0.3258 - val_accuracy: 0.9290\n",
            "Epoch 59/1000\n",
            " 1/31 [..............................] - ETA: 0s - loss: 0.6078 - accuracy: 0.7891\n",
            "Epoch 59: saving model to C:/Users/rohan/Downloads/hand-gesture-recognition-mediapipe-main/hand-gesture-recognition-mediapipe-main/model/keypoint_classifier\\keypoint_classifier.hdf5\n",
            "31/31 [==============================] - 0s 2ms/step - loss: 0.6581 - accuracy: 0.7427 - val_loss: 0.3201 - val_accuracy: 0.9336\n",
            "Epoch 60/1000\n",
            " 1/31 [..............................] - ETA: 0s - loss: 0.7350 - accuracy: 0.7031\n",
            "Epoch 60: saving model to C:/Users/rohan/Downloads/hand-gesture-recognition-mediapipe-main/hand-gesture-recognition-mediapipe-main/model/keypoint_classifier\\keypoint_classifier.hdf5\n",
            "31/31 [==============================] - 0s 2ms/step - loss: 0.6564 - accuracy: 0.7414 - val_loss: 0.3220 - val_accuracy: 0.9336\n",
            "Epoch 61/1000\n",
            " 1/31 [..............................] - ETA: 0s - loss: 0.5349 - accuracy: 0.8281\n",
            "Epoch 61: saving model to C:/Users/rohan/Downloads/hand-gesture-recognition-mediapipe-main/hand-gesture-recognition-mediapipe-main/model/keypoint_classifier\\keypoint_classifier.hdf5\n",
            "31/31 [==============================] - 0s 2ms/step - loss: 0.6642 - accuracy: 0.7504 - val_loss: 0.3163 - val_accuracy: 0.9352\n",
            "Epoch 62/1000\n",
            " 1/31 [..............................] - ETA: 0s - loss: 0.5930 - accuracy: 0.7578\n",
            "Epoch 62: saving model to C:/Users/rohan/Downloads/hand-gesture-recognition-mediapipe-main/hand-gesture-recognition-mediapipe-main/model/keypoint_classifier\\keypoint_classifier.hdf5\n",
            "31/31 [==============================] - 0s 2ms/step - loss: 0.6550 - accuracy: 0.7470 - val_loss: 0.3212 - val_accuracy: 0.9329\n",
            "Epoch 63/1000\n",
            " 1/31 [..............................] - ETA: 0s - loss: 0.6675 - accuracy: 0.7344\n",
            "Epoch 63: saving model to C:/Users/rohan/Downloads/hand-gesture-recognition-mediapipe-main/hand-gesture-recognition-mediapipe-main/model/keypoint_classifier\\keypoint_classifier.hdf5\n",
            "31/31 [==============================] - 0s 2ms/step - loss: 0.6430 - accuracy: 0.7532 - val_loss: 0.3164 - val_accuracy: 0.9360\n",
            "Epoch 64/1000\n",
            " 1/31 [..............................] - ETA: 0s - loss: 0.6555 - accuracy: 0.7656\n",
            "Epoch 64: saving model to C:/Users/rohan/Downloads/hand-gesture-recognition-mediapipe-main/hand-gesture-recognition-mediapipe-main/model/keypoint_classifier\\keypoint_classifier.hdf5\n",
            "31/31 [==============================] - 0s 2ms/step - loss: 0.6511 - accuracy: 0.7447 - val_loss: 0.3116 - val_accuracy: 0.9321\n",
            "Epoch 65/1000\n",
            " 1/31 [..............................] - ETA: 0s - loss: 0.6643 - accuracy: 0.7109\n",
            "Epoch 65: saving model to C:/Users/rohan/Downloads/hand-gesture-recognition-mediapipe-main/hand-gesture-recognition-mediapipe-main/model/keypoint_classifier\\keypoint_classifier.hdf5\n",
            "31/31 [==============================] - 0s 2ms/step - loss: 0.6437 - accuracy: 0.7470 - val_loss: 0.3122 - val_accuracy: 0.9306\n",
            "Epoch 66/1000\n",
            " 1/31 [..............................] - ETA: 0s - loss: 0.5720 - accuracy: 0.7656\n",
            "Epoch 66: saving model to C:/Users/rohan/Downloads/hand-gesture-recognition-mediapipe-main/hand-gesture-recognition-mediapipe-main/model/keypoint_classifier\\keypoint_classifier.hdf5\n",
            "31/31 [==============================] - 0s 2ms/step - loss: 0.6331 - accuracy: 0.7470 - val_loss: 0.3126 - val_accuracy: 0.9282\n",
            "Epoch 67/1000\n",
            " 1/31 [..............................] - ETA: 0s - loss: 0.4379 - accuracy: 0.8516\n",
            "Epoch 67: saving model to C:/Users/rohan/Downloads/hand-gesture-recognition-mediapipe-main/hand-gesture-recognition-mediapipe-main/model/keypoint_classifier\\keypoint_classifier.hdf5\n",
            "31/31 [==============================] - 0s 2ms/step - loss: 0.6081 - accuracy: 0.7661 - val_loss: 0.3014 - val_accuracy: 0.9306\n",
            "Epoch 68/1000\n",
            " 1/31 [..............................] - ETA: 0s - loss: 0.5860 - accuracy: 0.7656\n",
            "Epoch 68: saving model to C:/Users/rohan/Downloads/hand-gesture-recognition-mediapipe-main/hand-gesture-recognition-mediapipe-main/model/keypoint_classifier\\keypoint_classifier.hdf5\n",
            "31/31 [==============================] - 0s 2ms/step - loss: 0.6454 - accuracy: 0.7537 - val_loss: 0.3071 - val_accuracy: 0.9336\n",
            "Epoch 69/1000\n",
            " 1/31 [..............................] - ETA: 0s - loss: 0.5338 - accuracy: 0.8047\n",
            "Epoch 69: saving model to C:/Users/rohan/Downloads/hand-gesture-recognition-mediapipe-main/hand-gesture-recognition-mediapipe-main/model/keypoint_classifier\\keypoint_classifier.hdf5\n",
            "31/31 [==============================] - 0s 2ms/step - loss: 0.6214 - accuracy: 0.7712 - val_loss: 0.3049 - val_accuracy: 0.9313\n",
            "Epoch 70/1000\n",
            " 1/31 [..............................] - ETA: 0s - loss: 0.6458 - accuracy: 0.7812\n",
            "Epoch 70: saving model to C:/Users/rohan/Downloads/hand-gesture-recognition-mediapipe-main/hand-gesture-recognition-mediapipe-main/model/keypoint_classifier\\keypoint_classifier.hdf5\n",
            "31/31 [==============================] - 0s 2ms/step - loss: 0.6369 - accuracy: 0.7537 - val_loss: 0.3014 - val_accuracy: 0.9313\n",
            "Epoch 71/1000\n",
            " 1/31 [..............................] - ETA: 0s - loss: 0.7303 - accuracy: 0.7266\n",
            "Epoch 71: saving model to C:/Users/rohan/Downloads/hand-gesture-recognition-mediapipe-main/hand-gesture-recognition-mediapipe-main/model/keypoint_classifier\\keypoint_classifier.hdf5\n",
            "31/31 [==============================] - 0s 2ms/step - loss: 0.6229 - accuracy: 0.7612 - val_loss: 0.3029 - val_accuracy: 0.9336\n",
            "Epoch 72/1000\n",
            " 1/31 [..............................] - ETA: 0s - loss: 0.5144 - accuracy: 0.8125\n",
            "Epoch 72: saving model to C:/Users/rohan/Downloads/hand-gesture-recognition-mediapipe-main/hand-gesture-recognition-mediapipe-main/model/keypoint_classifier\\keypoint_classifier.hdf5\n",
            "31/31 [==============================] - 0s 2ms/step - loss: 0.6286 - accuracy: 0.7537 - val_loss: 0.3050 - val_accuracy: 0.9344\n",
            "Epoch 73/1000\n",
            " 1/31 [..............................] - ETA: 0s - loss: 0.6089 - accuracy: 0.7578\n",
            "Epoch 73: saving model to C:/Users/rohan/Downloads/hand-gesture-recognition-mediapipe-main/hand-gesture-recognition-mediapipe-main/model/keypoint_classifier\\keypoint_classifier.hdf5\n",
            "31/31 [==============================] - 0s 2ms/step - loss: 0.6338 - accuracy: 0.7581 - val_loss: 0.2977 - val_accuracy: 0.9344\n",
            "Epoch 74/1000\n",
            " 1/31 [..............................] - ETA: 0s - loss: 0.6529 - accuracy: 0.7188\n",
            "Epoch 74: saving model to C:/Users/rohan/Downloads/hand-gesture-recognition-mediapipe-main/hand-gesture-recognition-mediapipe-main/model/keypoint_classifier\\keypoint_classifier.hdf5\n",
            "31/31 [==============================] - 0s 2ms/step - loss: 0.6329 - accuracy: 0.7483 - val_loss: 0.3025 - val_accuracy: 0.9313\n",
            "Epoch 75/1000\n",
            " 1/31 [..............................] - ETA: 0s - loss: 0.5871 - accuracy: 0.7656\n",
            "Epoch 75: saving model to C:/Users/rohan/Downloads/hand-gesture-recognition-mediapipe-main/hand-gesture-recognition-mediapipe-main/model/keypoint_classifier\\keypoint_classifier.hdf5\n",
            "31/31 [==============================] - 0s 2ms/step - loss: 0.6205 - accuracy: 0.7633 - val_loss: 0.3034 - val_accuracy: 0.9360\n",
            "Epoch 76/1000\n",
            " 1/31 [..............................] - ETA: 0s - loss: 0.5830 - accuracy: 0.7891\n",
            "Epoch 76: saving model to C:/Users/rohan/Downloads/hand-gesture-recognition-mediapipe-main/hand-gesture-recognition-mediapipe-main/model/keypoint_classifier\\keypoint_classifier.hdf5\n",
            "31/31 [==============================] - 0s 2ms/step - loss: 0.6212 - accuracy: 0.7566 - val_loss: 0.2931 - val_accuracy: 0.9398\n",
            "Epoch 77/1000\n",
            " 1/31 [..............................] - ETA: 0s - loss: 0.5394 - accuracy: 0.8125\n",
            "Epoch 77: saving model to C:/Users/rohan/Downloads/hand-gesture-recognition-mediapipe-main/hand-gesture-recognition-mediapipe-main/model/keypoint_classifier\\keypoint_classifier.hdf5\n",
            "31/31 [==============================] - 0s 2ms/step - loss: 0.6204 - accuracy: 0.7635 - val_loss: 0.2988 - val_accuracy: 0.9298\n",
            "Epoch 78/1000\n",
            " 1/31 [..............................] - ETA: 0s - loss: 0.6872 - accuracy: 0.6953\n",
            "Epoch 78: saving model to C:/Users/rohan/Downloads/hand-gesture-recognition-mediapipe-main/hand-gesture-recognition-mediapipe-main/model/keypoint_classifier\\keypoint_classifier.hdf5\n",
            "31/31 [==============================] - 0s 2ms/step - loss: 0.6138 - accuracy: 0.7571 - val_loss: 0.2970 - val_accuracy: 0.9360\n",
            "Epoch 79/1000\n",
            " 1/31 [..............................] - ETA: 0s - loss: 0.6481 - accuracy: 0.7500\n",
            "Epoch 79: saving model to C:/Users/rohan/Downloads/hand-gesture-recognition-mediapipe-main/hand-gesture-recognition-mediapipe-main/model/keypoint_classifier\\keypoint_classifier.hdf5\n",
            "31/31 [==============================] - 0s 2ms/step - loss: 0.6109 - accuracy: 0.7615 - val_loss: 0.3023 - val_accuracy: 0.9360\n",
            "Epoch 80/1000\n",
            " 1/31 [..............................] - ETA: 0s - loss: 0.6519 - accuracy: 0.7344\n",
            "Epoch 80: saving model to C:/Users/rohan/Downloads/hand-gesture-recognition-mediapipe-main/hand-gesture-recognition-mediapipe-main/model/keypoint_classifier\\keypoint_classifier.hdf5\n",
            "31/31 [==============================] - 0s 2ms/step - loss: 0.6216 - accuracy: 0.7571 - val_loss: 0.2930 - val_accuracy: 0.9367\n",
            "Epoch 81/1000\n",
            " 1/31 [..............................] - ETA: 0s - loss: 0.5901 - accuracy: 0.7344\n",
            "Epoch 81: saving model to C:/Users/rohan/Downloads/hand-gesture-recognition-mediapipe-main/hand-gesture-recognition-mediapipe-main/model/keypoint_classifier\\keypoint_classifier.hdf5\n",
            "31/31 [==============================] - 0s 2ms/step - loss: 0.5966 - accuracy: 0.7687 - val_loss: 0.2961 - val_accuracy: 0.9259\n",
            "Epoch 82/1000\n",
            " 1/31 [..............................] - ETA: 0s - loss: 0.5371 - accuracy: 0.7969\n",
            "Epoch 82: saving model to C:/Users/rohan/Downloads/hand-gesture-recognition-mediapipe-main/hand-gesture-recognition-mediapipe-main/model/keypoint_classifier\\keypoint_classifier.hdf5\n",
            "31/31 [==============================] - 0s 2ms/step - loss: 0.6016 - accuracy: 0.7694 - val_loss: 0.2933 - val_accuracy: 0.9344\n",
            "Epoch 83/1000\n",
            " 1/31 [..............................] - ETA: 0s - loss: 0.6552 - accuracy: 0.7891\n",
            "Epoch 83: saving model to C:/Users/rohan/Downloads/hand-gesture-recognition-mediapipe-main/hand-gesture-recognition-mediapipe-main/model/keypoint_classifier\\keypoint_classifier.hdf5\n",
            "31/31 [==============================] - 0s 2ms/step - loss: 0.6116 - accuracy: 0.7669 - val_loss: 0.2929 - val_accuracy: 0.9298\n",
            "Epoch 84/1000\n",
            " 1/31 [..............................] - ETA: 0s - loss: 0.6536 - accuracy: 0.7422\n",
            "Epoch 84: saving model to C:/Users/rohan/Downloads/hand-gesture-recognition-mediapipe-main/hand-gesture-recognition-mediapipe-main/model/keypoint_classifier\\keypoint_classifier.hdf5\n",
            "31/31 [==============================] - 0s 2ms/step - loss: 0.6093 - accuracy: 0.7630 - val_loss: 0.2925 - val_accuracy: 0.9336\n",
            "Epoch 85/1000\n",
            " 1/31 [..............................] - ETA: 0s - loss: 0.6897 - accuracy: 0.7266\n",
            "Epoch 85: saving model to C:/Users/rohan/Downloads/hand-gesture-recognition-mediapipe-main/hand-gesture-recognition-mediapipe-main/model/keypoint_classifier\\keypoint_classifier.hdf5\n",
            "31/31 [==============================] - 0s 2ms/step - loss: 0.6091 - accuracy: 0.7756 - val_loss: 0.2891 - val_accuracy: 0.9429\n",
            "Epoch 86/1000\n",
            " 1/31 [..............................] - ETA: 0s - loss: 0.5613 - accuracy: 0.7891\n",
            "Epoch 86: saving model to C:/Users/rohan/Downloads/hand-gesture-recognition-mediapipe-main/hand-gesture-recognition-mediapipe-main/model/keypoint_classifier\\keypoint_classifier.hdf5\n",
            "31/31 [==============================] - 0s 2ms/step - loss: 0.6078 - accuracy: 0.7645 - val_loss: 0.2889 - val_accuracy: 0.9344\n",
            "Epoch 87/1000\n",
            " 1/31 [..............................] - ETA: 0s - loss: 0.5722 - accuracy: 0.7891\n",
            "Epoch 87: saving model to C:/Users/rohan/Downloads/hand-gesture-recognition-mediapipe-main/hand-gesture-recognition-mediapipe-main/model/keypoint_classifier\\keypoint_classifier.hdf5\n",
            "31/31 [==============================] - 0s 2ms/step - loss: 0.6006 - accuracy: 0.7753 - val_loss: 0.2916 - val_accuracy: 0.9336\n",
            "Epoch 88/1000\n",
            " 1/31 [..............................] - ETA: 0s - loss: 0.6262 - accuracy: 0.7734\n",
            "Epoch 88: saving model to C:/Users/rohan/Downloads/hand-gesture-recognition-mediapipe-main/hand-gesture-recognition-mediapipe-main/model/keypoint_classifier\\keypoint_classifier.hdf5\n",
            "31/31 [==============================] - 0s 2ms/step - loss: 0.5986 - accuracy: 0.7800 - val_loss: 0.2957 - val_accuracy: 0.9352\n",
            "Epoch 89/1000\n",
            " 1/31 [..............................] - ETA: 0s - loss: 0.7061 - accuracy: 0.7578\n",
            "Epoch 89: saving model to C:/Users/rohan/Downloads/hand-gesture-recognition-mediapipe-main/hand-gesture-recognition-mediapipe-main/model/keypoint_classifier\\keypoint_classifier.hdf5\n",
            "31/31 [==============================] - 0s 2ms/step - loss: 0.6212 - accuracy: 0.7643 - val_loss: 0.2881 - val_accuracy: 0.9421\n",
            "Epoch 90/1000\n",
            " 1/31 [..............................] - ETA: 0s - loss: 0.5490 - accuracy: 0.7812\n",
            "Epoch 90: saving model to C:/Users/rohan/Downloads/hand-gesture-recognition-mediapipe-main/hand-gesture-recognition-mediapipe-main/model/keypoint_classifier\\keypoint_classifier.hdf5\n",
            "31/31 [==============================] - 0s 2ms/step - loss: 0.6083 - accuracy: 0.7692 - val_loss: 0.2937 - val_accuracy: 0.9414\n",
            "Epoch 91/1000\n",
            " 1/31 [..............................] - ETA: 0s - loss: 0.6891 - accuracy: 0.6875\n",
            "Epoch 91: saving model to C:/Users/rohan/Downloads/hand-gesture-recognition-mediapipe-main/hand-gesture-recognition-mediapipe-main/model/keypoint_classifier\\keypoint_classifier.hdf5\n",
            "31/31 [==============================] - 0s 2ms/step - loss: 0.6046 - accuracy: 0.7707 - val_loss: 0.2882 - val_accuracy: 0.9306\n",
            "Epoch 92/1000\n",
            " 1/31 [..............................] - ETA: 0s - loss: 0.5990 - accuracy: 0.7500\n",
            "Epoch 92: saving model to C:/Users/rohan/Downloads/hand-gesture-recognition-mediapipe-main/hand-gesture-recognition-mediapipe-main/model/keypoint_classifier\\keypoint_classifier.hdf5\n",
            "31/31 [==============================] - 0s 2ms/step - loss: 0.6064 - accuracy: 0.7687 - val_loss: 0.2882 - val_accuracy: 0.9275\n",
            "Epoch 93/1000\n",
            " 1/31 [..............................] - ETA: 0s - loss: 0.5861 - accuracy: 0.8047\n",
            "Epoch 93: saving model to C:/Users/rohan/Downloads/hand-gesture-recognition-mediapipe-main/hand-gesture-recognition-mediapipe-main/model/keypoint_classifier\\keypoint_classifier.hdf5\n",
            "31/31 [==============================] - 0s 2ms/step - loss: 0.5932 - accuracy: 0.7730 - val_loss: 0.2869 - val_accuracy: 0.9329\n",
            "Epoch 94/1000\n",
            " 1/31 [..............................] - ETA: 0s - loss: 0.5059 - accuracy: 0.8594\n",
            "Epoch 94: saving model to C:/Users/rohan/Downloads/hand-gesture-recognition-mediapipe-main/hand-gesture-recognition-mediapipe-main/model/keypoint_classifier\\keypoint_classifier.hdf5\n",
            "31/31 [==============================] - 0s 2ms/step - loss: 0.6094 - accuracy: 0.7769 - val_loss: 0.2863 - val_accuracy: 0.9367\n",
            "Epoch 95/1000\n",
            " 1/31 [..............................] - ETA: 0s - loss: 0.5546 - accuracy: 0.7422\n",
            "Epoch 95: saving model to C:/Users/rohan/Downloads/hand-gesture-recognition-mediapipe-main/hand-gesture-recognition-mediapipe-main/model/keypoint_classifier\\keypoint_classifier.hdf5\n",
            "31/31 [==============================] - 0s 2ms/step - loss: 0.6017 - accuracy: 0.7669 - val_loss: 0.2819 - val_accuracy: 0.9275\n",
            "Epoch 96/1000\n",
            " 1/31 [..............................] - ETA: 0s - loss: 0.5522 - accuracy: 0.7656\n",
            "Epoch 96: saving model to C:/Users/rohan/Downloads/hand-gesture-recognition-mediapipe-main/hand-gesture-recognition-mediapipe-main/model/keypoint_classifier\\keypoint_classifier.hdf5\n",
            "31/31 [==============================] - 0s 2ms/step - loss: 0.5906 - accuracy: 0.7710 - val_loss: 0.2921 - val_accuracy: 0.9336\n",
            "Epoch 97/1000\n",
            " 1/31 [..............................] - ETA: 0s - loss: 0.5880 - accuracy: 0.7500\n",
            "Epoch 97: saving model to C:/Users/rohan/Downloads/hand-gesture-recognition-mediapipe-main/hand-gesture-recognition-mediapipe-main/model/keypoint_classifier\\keypoint_classifier.hdf5\n",
            "31/31 [==============================] - 0s 2ms/step - loss: 0.5986 - accuracy: 0.7771 - val_loss: 0.2876 - val_accuracy: 0.9406\n",
            "Epoch 98/1000\n",
            " 1/31 [..............................] - ETA: 0s - loss: 0.6626 - accuracy: 0.7422\n",
            "Epoch 98: saving model to C:/Users/rohan/Downloads/hand-gesture-recognition-mediapipe-main/hand-gesture-recognition-mediapipe-main/model/keypoint_classifier\\keypoint_classifier.hdf5\n",
            "31/31 [==============================] - 0s 2ms/step - loss: 0.5771 - accuracy: 0.7856 - val_loss: 0.2861 - val_accuracy: 0.9360\n",
            "Epoch 99/1000\n",
            " 1/31 [..............................] - ETA: 0s - loss: 0.6685 - accuracy: 0.7422\n",
            "Epoch 99: saving model to C:/Users/rohan/Downloads/hand-gesture-recognition-mediapipe-main/hand-gesture-recognition-mediapipe-main/model/keypoint_classifier\\keypoint_classifier.hdf5\n",
            "31/31 [==============================] - 0s 2ms/step - loss: 0.5934 - accuracy: 0.7771 - val_loss: 0.2812 - val_accuracy: 0.9375\n",
            "Epoch 100/1000\n",
            " 1/31 [..............................] - ETA: 0s - loss: 0.4824 - accuracy: 0.8125\n",
            "Epoch 100: saving model to C:/Users/rohan/Downloads/hand-gesture-recognition-mediapipe-main/hand-gesture-recognition-mediapipe-main/model/keypoint_classifier\\keypoint_classifier.hdf5\n",
            "31/31 [==============================] - 0s 2ms/step - loss: 0.5850 - accuracy: 0.7764 - val_loss: 0.2782 - val_accuracy: 0.9398\n",
            "Epoch 101/1000\n",
            " 1/31 [..............................] - ETA: 0s - loss: 0.6234 - accuracy: 0.7188\n",
            "Epoch 101: saving model to C:/Users/rohan/Downloads/hand-gesture-recognition-mediapipe-main/hand-gesture-recognition-mediapipe-main/model/keypoint_classifier\\keypoint_classifier.hdf5\n",
            "31/31 [==============================] - 0s 2ms/step - loss: 0.5814 - accuracy: 0.7784 - val_loss: 0.2802 - val_accuracy: 0.9352\n",
            "Epoch 102/1000\n",
            " 1/31 [..............................] - ETA: 0s - loss: 0.6063 - accuracy: 0.7734\n",
            "Epoch 102: saving model to C:/Users/rohan/Downloads/hand-gesture-recognition-mediapipe-main/hand-gesture-recognition-mediapipe-main/model/keypoint_classifier\\keypoint_classifier.hdf5\n",
            "31/31 [==============================] - 0s 2ms/step - loss: 0.6029 - accuracy: 0.7710 - val_loss: 0.2836 - val_accuracy: 0.9414\n",
            "Epoch 103/1000\n",
            " 1/31 [..............................] - ETA: 0s - loss: 0.5594 - accuracy: 0.7812\n",
            "Epoch 103: saving model to C:/Users/rohan/Downloads/hand-gesture-recognition-mediapipe-main/hand-gesture-recognition-mediapipe-main/model/keypoint_classifier\\keypoint_classifier.hdf5\n",
            "31/31 [==============================] - 0s 2ms/step - loss: 0.6212 - accuracy: 0.7597 - val_loss: 0.2882 - val_accuracy: 0.9383\n",
            "Epoch 104/1000\n",
            " 1/31 [..............................] - ETA: 0s - loss: 0.6802 - accuracy: 0.7500\n",
            "Epoch 104: saving model to C:/Users/rohan/Downloads/hand-gesture-recognition-mediapipe-main/hand-gesture-recognition-mediapipe-main/model/keypoint_classifier\\keypoint_classifier.hdf5\n",
            "31/31 [==============================] - 0s 2ms/step - loss: 0.5876 - accuracy: 0.7784 - val_loss: 0.2911 - val_accuracy: 0.9367\n",
            "Epoch 105/1000\n",
            " 1/31 [..............................] - ETA: 0s - loss: 0.6666 - accuracy: 0.7734\n",
            "Epoch 105: saving model to C:/Users/rohan/Downloads/hand-gesture-recognition-mediapipe-main/hand-gesture-recognition-mediapipe-main/model/keypoint_classifier\\keypoint_classifier.hdf5\n",
            "31/31 [==============================] - 0s 2ms/step - loss: 0.5953 - accuracy: 0.7723 - val_loss: 0.2765 - val_accuracy: 0.9367\n",
            "Epoch 106/1000\n",
            " 1/31 [..............................] - ETA: 0s - loss: 0.5716 - accuracy: 0.7969\n",
            "Epoch 106: saving model to C:/Users/rohan/Downloads/hand-gesture-recognition-mediapipe-main/hand-gesture-recognition-mediapipe-main/model/keypoint_classifier\\keypoint_classifier.hdf5\n",
            "31/31 [==============================] - 0s 2ms/step - loss: 0.5876 - accuracy: 0.7805 - val_loss: 0.2830 - val_accuracy: 0.9329\n",
            "Epoch 107/1000\n",
            " 1/31 [..............................] - ETA: 0s - loss: 0.5532 - accuracy: 0.8594\n",
            "Epoch 107: saving model to C:/Users/rohan/Downloads/hand-gesture-recognition-mediapipe-main/hand-gesture-recognition-mediapipe-main/model/keypoint_classifier\\keypoint_classifier.hdf5\n",
            "31/31 [==============================] - 0s 2ms/step - loss: 0.5827 - accuracy: 0.7782 - val_loss: 0.2804 - val_accuracy: 0.9398\n",
            "Epoch 108/1000\n",
            " 1/31 [..............................] - ETA: 0s - loss: 0.5533 - accuracy: 0.7969\n",
            "Epoch 108: saving model to C:/Users/rohan/Downloads/hand-gesture-recognition-mediapipe-main/hand-gesture-recognition-mediapipe-main/model/keypoint_classifier\\keypoint_classifier.hdf5\n",
            "31/31 [==============================] - 0s 2ms/step - loss: 0.5814 - accuracy: 0.7838 - val_loss: 0.2686 - val_accuracy: 0.9452\n",
            "Epoch 109/1000\n",
            " 1/31 [..............................] - ETA: 0s - loss: 0.5153 - accuracy: 0.8359\n",
            "Epoch 109: saving model to C:/Users/rohan/Downloads/hand-gesture-recognition-mediapipe-main/hand-gesture-recognition-mediapipe-main/model/keypoint_classifier\\keypoint_classifier.hdf5\n",
            "31/31 [==============================] - 0s 2ms/step - loss: 0.5831 - accuracy: 0.7836 - val_loss: 0.2825 - val_accuracy: 0.9429\n",
            "Epoch 110/1000\n",
            " 1/31 [..............................] - ETA: 0s - loss: 0.5480 - accuracy: 0.8125\n",
            "Epoch 110: saving model to C:/Users/rohan/Downloads/hand-gesture-recognition-mediapipe-main/hand-gesture-recognition-mediapipe-main/model/keypoint_classifier\\keypoint_classifier.hdf5\n",
            "31/31 [==============================] - 0s 2ms/step - loss: 0.5793 - accuracy: 0.7867 - val_loss: 0.2777 - val_accuracy: 0.9383\n",
            "Epoch 111/1000\n",
            " 1/31 [..............................] - ETA: 0s - loss: 0.4872 - accuracy: 0.8125\n",
            "Epoch 111: saving model to C:/Users/rohan/Downloads/hand-gesture-recognition-mediapipe-main/hand-gesture-recognition-mediapipe-main/model/keypoint_classifier\\keypoint_classifier.hdf5\n",
            "31/31 [==============================] - 0s 2ms/step - loss: 0.6062 - accuracy: 0.7692 - val_loss: 0.2852 - val_accuracy: 0.9360\n",
            "Epoch 112/1000\n",
            " 1/31 [..............................] - ETA: 0s - loss: 0.5180 - accuracy: 0.8047\n",
            "Epoch 112: saving model to C:/Users/rohan/Downloads/hand-gesture-recognition-mediapipe-main/hand-gesture-recognition-mediapipe-main/model/keypoint_classifier\\keypoint_classifier.hdf5\n",
            "31/31 [==============================] - 0s 2ms/step - loss: 0.5938 - accuracy: 0.7712 - val_loss: 0.2891 - val_accuracy: 0.9375\n",
            "Epoch 113/1000\n",
            " 1/31 [..............................] - ETA: 0s - loss: 0.5018 - accuracy: 0.7500\n",
            "Epoch 113: saving model to C:/Users/rohan/Downloads/hand-gesture-recognition-mediapipe-main/hand-gesture-recognition-mediapipe-main/model/keypoint_classifier\\keypoint_classifier.hdf5\n",
            "31/31 [==============================] - 0s 2ms/step - loss: 0.5883 - accuracy: 0.7735 - val_loss: 0.2845 - val_accuracy: 0.9313\n",
            "Epoch 114/1000\n",
            " 1/31 [..............................] - ETA: 0s - loss: 0.5892 - accuracy: 0.7812\n",
            "Epoch 114: saving model to C:/Users/rohan/Downloads/hand-gesture-recognition-mediapipe-main/hand-gesture-recognition-mediapipe-main/model/keypoint_classifier\\keypoint_classifier.hdf5\n",
            "31/31 [==============================] - 0s 2ms/step - loss: 0.5914 - accuracy: 0.7820 - val_loss: 0.2813 - val_accuracy: 0.9313\n",
            "Epoch 115/1000\n",
            " 1/31 [..............................] - ETA: 0s - loss: 0.5517 - accuracy: 0.8125\n",
            "Epoch 115: saving model to C:/Users/rohan/Downloads/hand-gesture-recognition-mediapipe-main/hand-gesture-recognition-mediapipe-main/model/keypoint_classifier\\keypoint_classifier.hdf5\n",
            "31/31 [==============================] - 0s 2ms/step - loss: 0.5969 - accuracy: 0.7710 - val_loss: 0.2789 - val_accuracy: 0.9336\n",
            "Epoch 116/1000\n",
            " 1/31 [..............................] - ETA: 0s - loss: 0.5017 - accuracy: 0.7812\n",
            "Epoch 116: saving model to C:/Users/rohan/Downloads/hand-gesture-recognition-mediapipe-main/hand-gesture-recognition-mediapipe-main/model/keypoint_classifier\\keypoint_classifier.hdf5\n",
            "31/31 [==============================] - 0s 2ms/step - loss: 0.5719 - accuracy: 0.7895 - val_loss: 0.2830 - val_accuracy: 0.9367\n",
            "Epoch 117/1000\n",
            " 1/31 [..............................] - ETA: 0s - loss: 0.5993 - accuracy: 0.7812\n",
            "Epoch 117: saving model to C:/Users/rohan/Downloads/hand-gesture-recognition-mediapipe-main/hand-gesture-recognition-mediapipe-main/model/keypoint_classifier\\keypoint_classifier.hdf5\n",
            "31/31 [==============================] - 0s 2ms/step - loss: 0.5751 - accuracy: 0.7826 - val_loss: 0.2811 - val_accuracy: 0.9344\n",
            "Epoch 118/1000\n",
            " 1/31 [..............................] - ETA: 0s - loss: 0.5684 - accuracy: 0.7734\n",
            "Epoch 118: saving model to C:/Users/rohan/Downloads/hand-gesture-recognition-mediapipe-main/hand-gesture-recognition-mediapipe-main/model/keypoint_classifier\\keypoint_classifier.hdf5\n",
            "31/31 [==============================] - 0s 2ms/step - loss: 0.5934 - accuracy: 0.7784 - val_loss: 0.2858 - val_accuracy: 0.9290\n",
            "Epoch 119/1000\n",
            " 1/31 [..............................] - ETA: 0s - loss: 0.3729 - accuracy: 0.8906\n",
            "Epoch 119: saving model to C:/Users/rohan/Downloads/hand-gesture-recognition-mediapipe-main/hand-gesture-recognition-mediapipe-main/model/keypoint_classifier\\keypoint_classifier.hdf5\n",
            "31/31 [==============================] - 0s 2ms/step - loss: 0.5619 - accuracy: 0.7818 - val_loss: 0.2792 - val_accuracy: 0.9367\n",
            "Epoch 120/1000\n",
            " 1/31 [..............................] - ETA: 0s - loss: 0.5010 - accuracy: 0.8125\n",
            "Epoch 120: saving model to C:/Users/rohan/Downloads/hand-gesture-recognition-mediapipe-main/hand-gesture-recognition-mediapipe-main/model/keypoint_classifier\\keypoint_classifier.hdf5\n",
            "31/31 [==============================] - 0s 2ms/step - loss: 0.5679 - accuracy: 0.7864 - val_loss: 0.2772 - val_accuracy: 0.9360\n",
            "Epoch 121/1000\n",
            " 1/31 [..............................] - ETA: 0s - loss: 0.5332 - accuracy: 0.8203\n",
            "Epoch 121: saving model to C:/Users/rohan/Downloads/hand-gesture-recognition-mediapipe-main/hand-gesture-recognition-mediapipe-main/model/keypoint_classifier\\keypoint_classifier.hdf5\n",
            "31/31 [==============================] - 0s 2ms/step - loss: 0.5802 - accuracy: 0.7756 - val_loss: 0.2800 - val_accuracy: 0.9329\n",
            "Epoch 122/1000\n",
            " 1/31 [..............................] - ETA: 0s - loss: 0.5544 - accuracy: 0.7734\n",
            "Epoch 122: saving model to C:/Users/rohan/Downloads/hand-gesture-recognition-mediapipe-main/hand-gesture-recognition-mediapipe-main/model/keypoint_classifier\\keypoint_classifier.hdf5\n",
            "31/31 [==============================] - 0s 2ms/step - loss: 0.5865 - accuracy: 0.7759 - val_loss: 0.2724 - val_accuracy: 0.9406\n",
            "Epoch 123/1000\n",
            " 1/31 [..............................] - ETA: 0s - loss: 0.6516 - accuracy: 0.7422\n",
            "Epoch 123: saving model to C:/Users/rohan/Downloads/hand-gesture-recognition-mediapipe-main/hand-gesture-recognition-mediapipe-main/model/keypoint_classifier\\keypoint_classifier.hdf5\n",
            "31/31 [==============================] - 0s 2ms/step - loss: 0.5814 - accuracy: 0.7784 - val_loss: 0.2780 - val_accuracy: 0.9290\n",
            "Epoch 124/1000\n",
            " 1/31 [..............................] - ETA: 0s - loss: 0.4851 - accuracy: 0.8125\n",
            "Epoch 124: saving model to C:/Users/rohan/Downloads/hand-gesture-recognition-mediapipe-main/hand-gesture-recognition-mediapipe-main/model/keypoint_classifier\\keypoint_classifier.hdf5\n",
            "31/31 [==============================] - 0s 2ms/step - loss: 0.5710 - accuracy: 0.7854 - val_loss: 0.2769 - val_accuracy: 0.9360\n",
            "Epoch 125/1000\n",
            " 1/31 [..............................] - ETA: 0s - loss: 0.5135 - accuracy: 0.7969\n",
            "Epoch 125: saving model to C:/Users/rohan/Downloads/hand-gesture-recognition-mediapipe-main/hand-gesture-recognition-mediapipe-main/model/keypoint_classifier\\keypoint_classifier.hdf5\n",
            "31/31 [==============================] - 0s 2ms/step - loss: 0.5631 - accuracy: 0.7849 - val_loss: 0.2768 - val_accuracy: 0.9275\n",
            "Epoch 126/1000\n",
            " 1/31 [..............................] - ETA: 0s - loss: 0.6154 - accuracy: 0.7734\n",
            "Epoch 126: saving model to C:/Users/rohan/Downloads/hand-gesture-recognition-mediapipe-main/hand-gesture-recognition-mediapipe-main/model/keypoint_classifier\\keypoint_classifier.hdf5\n",
            "31/31 [==============================] - 0s 2ms/step - loss: 0.5768 - accuracy: 0.7826 - val_loss: 0.2732 - val_accuracy: 0.9390\n",
            "Epoch 127/1000\n",
            " 1/31 [..............................] - ETA: 0s - loss: 0.5888 - accuracy: 0.7500\n",
            "Epoch 127: saving model to C:/Users/rohan/Downloads/hand-gesture-recognition-mediapipe-main/hand-gesture-recognition-mediapipe-main/model/keypoint_classifier\\keypoint_classifier.hdf5\n",
            "31/31 [==============================] - 0s 2ms/step - loss: 0.5784 - accuracy: 0.7779 - val_loss: 0.2695 - val_accuracy: 0.9437\n",
            "Epoch 128/1000\n",
            " 1/31 [..............................] - ETA: 0s - loss: 0.4705 - accuracy: 0.8359\n",
            "Epoch 128: saving model to C:/Users/rohan/Downloads/hand-gesture-recognition-mediapipe-main/hand-gesture-recognition-mediapipe-main/model/keypoint_classifier\\keypoint_classifier.hdf5\n",
            "31/31 [==============================] - 0s 2ms/step - loss: 0.5712 - accuracy: 0.7777 - val_loss: 0.2719 - val_accuracy: 0.9468\n",
            "Epoch 128: early stopping\n"
          ]
        },
        {
          "data": {
            "text/plain": [
              "<keras.src.callbacks.History at 0x20cab70c160>"
            ]
          },
          "execution_count": 63,
          "metadata": {},
          "output_type": "execute_result"
        }
      ],
      "source": [
        "model.fit(\n",
        "    X_train,\n",
        "    y_train,\n",
        "    epochs=1000,\n",
        "    batch_size=128,\n",
        "    validation_data=(X_test, y_test),\n",
        "    callbacks=[cp_callback, es_callback]\n",
        ")"
      ]
    },
    {
      "cell_type": "code",
      "execution_count": 64,
      "metadata": {
        "colab": {
          "base_uri": "https://localhost:8080/"
        },
        "id": "pxvb2Y299hE3",
        "outputId": "59eb3185-2e37-4b9e-bc9d-ab1b8ac29b7f"
      },
      "outputs": [
        {
          "name": "stdout",
          "output_type": "stream",
          "text": [
            " 1/11 [=>............................] - ETA: 0s - loss: 0.3167 - accuracy: 0.9062"
          ]
        },
        {
          "name": "stdout",
          "output_type": "stream",
          "text": [
            "11/11 [==============================] - 0s 900us/step - loss: 0.2719 - accuracy: 0.9468\n"
          ]
        }
      ],
      "source": [
        "# Model evaluation\n",
        "val_loss, val_acc = model.evaluate(X_test, y_test, batch_size=128)"
      ]
    },
    {
      "cell_type": "code",
      "execution_count": 65,
      "metadata": {
        "id": "RBkmDeUW9hE4"
      },
      "outputs": [],
      "source": [
        "# Loading the saved model\n",
        "model = tf.keras.models.load_model(model_save_path)"
      ]
    },
    {
      "cell_type": "code",
      "execution_count": 66,
      "metadata": {
        "colab": {
          "base_uri": "https://localhost:8080/"
        },
        "id": "tFz9Tb0I9hE4",
        "outputId": "1c3b3528-54ae-4ee2-ab04-77429211cbef"
      },
      "outputs": [
        {
          "name": "stdout",
          "output_type": "stream",
          "text": [
            "1/1 [==============================] - 0s 29ms/step\n",
            "[3.1207874e-01 2.8958928e-02 7.4779950e-05 6.5888751e-01 7.1234854e-12]\n",
            "3\n"
          ]
        }
      ],
      "source": [
        "# Inference test\n",
        "predict_result = model.predict(np.array([X_test[0]]))\n",
        "print(np.squeeze(predict_result))\n",
        "print(np.argmax(np.squeeze(predict_result)))"
      ]
    },
    {
      "cell_type": "markdown",
      "metadata": {
        "id": "S3U4yNWx9hE4"
      },
      "source": [
        "# Confusion matrix"
      ]
    },
    {
      "cell_type": "code",
      "execution_count": 67,
      "metadata": {
        "colab": {
          "base_uri": "https://localhost:8080/",
          "height": 582
        },
        "id": "AP1V6SCk9hE5",
        "outputId": "08e41a80-7a4a-4619-8125-ecc371368d19"
      },
      "outputs": [
        {
          "name": "stdout",
          "output_type": "stream",
          "text": [
            "41/41 [==============================] - 0s 525us/step\n"
          ]
        },
        {
          "data": {
            "image/png": "[encoded data removed]",
            "text/plain": [
              "<Figure size 700x600 with 2 Axes>"
            ]
          },
          "metadata": {},
          "output_type": "display_data"
        },
        {
          "name": "stdout",
          "output_type": "stream",
          "text": [
            "Classification Report\n",
            "              precision    recall  f1-score   support\n",
            "\n",
            "           0       0.94      0.98      0.96       405\n",
            "           1       0.96      0.93      0.95       373\n",
            "           2       0.94      0.97      0.95       338\n",
            "           3       1.00      0.93      0.96        81\n",
            "           4       0.93      0.82      0.87        99\n",
            "\n",
            "    accuracy                           0.95      1296\n",
            "   macro avg       0.95      0.92      0.94      1296\n",
            "weighted avg       0.95      0.95      0.95      1296\n",
            "\n"
          ]
        }
      ],
      "source": [
        "import pandas as pd\n",
        "import seaborn as sns\n",
        "import matplotlib.pyplot as plt\n",
        "from sklearn.metrics import confusion_matrix, classification_report\n",
        "\n",
        "def print_confusion_matrix(y_true, y_pred, report=True):\n",
        "    labels = sorted(list(set(y_true)))\n",
        "    cmx_data = confusion_matrix(y_true, y_pred, labels=labels)\n",
        "    \n",
        "    df_cmx = pd.DataFrame(cmx_data, index=labels, columns=labels)\n",
        " \n",
        "    fig, ax = plt.subplots(figsize=(7, 6))\n",
        "    sns.heatmap(df_cmx, annot=True, fmt='g' ,square=False)\n",
        "    ax.set_ylim(len(set(y_true)), 0)\n",
        "    plt.show()\n",
        "    \n",
        "    if report:\n",
        "        print('Classification Report')\n",
        "        print(classification_report(y_test, y_pred))\n",
        "\n",
        "Y_pred = model.predict(X_test)\n",
        "y_pred = np.argmax(Y_pred, axis=1)\n",
        "\n",
        "print_confusion_matrix(y_test, y_pred)"
      ]
    },
    {
      "cell_type": "markdown",
      "metadata": {
        "id": "FNP6aqzc9hE5"
      },
      "source": [
        "# Convert to model for Tensorflow-Lite"
      ]
    },
    {
      "cell_type": "code",
      "execution_count": 68,
      "metadata": {
        "id": "ODjnYyld9hE6"
      },
      "outputs": [
        {
          "name": "stderr",
          "output_type": "stream",
          "text": [
            "c:\\Users\\rohan\\AppData\\Local\\Programs\\Python\\Python38\\lib\\site-packages\\keras\\src\\engine\\training.py:3000: UserWarning: You are saving your model as an HDF5 file via `model.save()`. This file format is considered legacy. We recommend using instead the native Keras format, e.g. `model.save('my_model.keras')`.\n",
            "  saving_api.save_model(\n"
          ]
        }
      ],
      "source": [
        "# Save as a model dedicated to inference\n",
        "model.save(model_save_path, include_optimizer=False)"
      ]
    },
    {
      "cell_type": "code",
      "execution_count": 69,
      "metadata": {
        "colab": {
          "base_uri": "https://localhost:8080/"
        },
        "id": "zRfuK8Y59hE6",
        "outputId": "a4ca585c-b5d5-4244-8291-8674063209bb"
      },
      "outputs": [
        {
          "name": "stdout",
          "output_type": "stream",
          "text": [
            "INFO:tensorflow:Assets written to: C:\\Users\\rohan\\AppData\\Local\\Temp\\tmp_yaoqdmg\\assets\n"
          ]
        },
        {
          "name": "stderr",
          "output_type": "stream",
          "text": [
            "INFO:tensorflow:Assets written to: C:\\Users\\rohan\\AppData\\Local\\Temp\\tmp_yaoqdmg\\assets\n"
          ]
        },
        {
          "data": {
            "text/plain": [
              "6640"
            ]
          },
          "execution_count": 69,
          "metadata": {},
          "output_type": "execute_result"
        }
      ],
      "source": [
        "# Transform model (quantization)\n",
        "\n",
        "converter = tf.lite.TFLiteConverter.from_keras_model(model)\n",
        "converter.optimizations = [tf.lite.Optimize.DEFAULT]\n",
        "tflite_quantized_model = converter.convert()\n",
        "\n",
        "open(tflite_save_path, 'wb').write(tflite_quantized_model)"
      ]
    },
    {
      "cell_type": "markdown",
      "metadata": {
        "id": "CHBPBXdx9hE6"
      },
      "source": [
        "# Inference test"
      ]
    },
    {
      "cell_type": "code",
      "execution_count": 70,
      "metadata": {
        "id": "mGAzLocO9hE7"
      },
      "outputs": [],
      "source": [
        "interpreter = tf.lite.Interpreter(model_path=tflite_save_path)\n",
        "interpreter.allocate_tensors()"
      ]
    },
    {
      "cell_type": "code",
      "execution_count": 71,
      "metadata": {
        "id": "oQuDK8YS9hE7"
      },
      "outputs": [],
      "source": [
        "# Get I / O tensor\n",
        "input_details = interpreter.get_input_details()\n",
        "output_details = interpreter.get_output_details()"
      ]
    },
    {
      "cell_type": "code",
      "execution_count": 72,
      "metadata": {
        "id": "2_ixAf_l9hE7"
      },
      "outputs": [],
      "source": [
        "interpreter.set_tensor(input_details[0]['index'], np.array([X_test[0]]))"
      ]
    },
    {
      "cell_type": "code",
      "execution_count": 73,
      "metadata": {
        "colab": {
          "base_uri": "https://localhost:8080/"
        },
        "id": "s4FoAnuc9hE7",
        "outputId": "91f18257-8d8b-4ef3-c558-e9b5f94fabbf",
        "scrolled": true
      },
      "outputs": [
        {
          "name": "stdout",
          "output_type": "stream",
          "text": [
            "CPU times: total: 0 ns\n",
            "Wall time: 0 ns\n"
          ]
        }
      ],
      "source": [
        "%%time\n",
        "# Inference implementation\n",
        "interpreter.invoke()\n",
        "tflite_results = interpreter.get_tensor(output_details[0]['index'])"
      ]
    },
    {
      "cell_type": "code",
      "execution_count": 74,
      "metadata": {
        "colab": {
          "base_uri": "https://localhost:8080/"
        },
        "id": "vONjp19J9hE8",
        "outputId": "77205e24-fd00-42c4-f7b6-e06e527c2cba"
      },
      "outputs": [
        {
          "name": "stdout",
          "output_type": "stream",
          "text": [
            "[3.1207865e-01 2.8958930e-02 7.4779957e-05 6.5888762e-01 7.1234876e-12]\n",
            "3\n"
          ]
        }
      ],
      "source": [
        "print(np.squeeze(tflite_results))\n",
        "print(np.argmax(np.squeeze(tflite_results)))"
      ]
    }
  ],
  "metadata": {
    "accelerator": "GPU",
    "colab": {
      "collapsed_sections": [],
      "name": "keypoint_classification_EN.ipynb",
      "provenance": [],
      "toc_visible": true
    },
    "kernelspec": {
      "display_name": "Python 3",
      "language": "python",
      "name": "python3"
    },
    "language_info": {
      "codemirror_mode": {
        "name": "ipython",
        "version": 3
      },
      "file_extension": ".py",
      "mimetype": "text/x-python",
      "name": "python",
      "nbconvert_exporter": "python",
      "pygments_lexer": "ipython3",
      "version": "3.8.10"
    }
  },
  "nbformat": 4,
  "nbformat_minor": 0
}
